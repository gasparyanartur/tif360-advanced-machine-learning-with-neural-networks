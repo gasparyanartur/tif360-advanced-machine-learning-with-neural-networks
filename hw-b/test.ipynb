{
 "cells": [
  {
   "cell_type": "code",
   "execution_count": 2,
   "metadata": {},
   "outputs": [
    {
     "data": {
      "text/plain": [
       "array([0, 1, 2, 3, 4])"
      ]
     },
     "execution_count": 2,
     "metadata": {},
     "output_type": "execute_result"
    }
   ],
   "source": [
    "import numpy as np\n",
    "\n",
    "np.arange(5)"
   ]
  },
  {
   "cell_type": "code",
   "execution_count": 24,
   "metadata": {},
   "outputs": [
    {
     "name": "stdout",
     "output_type": "stream",
     "text": [
      "board\n",
      "[[-1 -1 -1]\n",
      " [-1  1 -1]\n",
      " [-1  1  1]]\n",
      "type\n",
      "1\n",
      "enc_board\n",
      "[False False False False  True False False  True  True]\n",
      "enc_types\n",
      "[False  True False False False]\n",
      "occ\n",
      "[False False False False  True False False  True  True False  True False\n",
      " False False]\n",
      "pow\n",
      "[   1    2    4    8   16   32   64  128  256  512 1024 2048 4096 8192]\n",
      "code\n",
      "1424\n",
      "func output\n"
     ]
    },
    {
     "data": {
      "text/plain": [
       "1424"
      ]
     },
     "execution_count": 24,
     "metadata": {},
     "output_type": "execute_result"
    }
   ],
   "source": [
    "# encode type\n",
    "\n",
    "n_types = 5\n",
    "t = 1\n",
    "board = np.array([[-1, -1, -1], [-1, 1, -1], [-1, 1, 1]])\n",
    "\n",
    "print(\"board\")\n",
    "print(board)\n",
    "print(\"type\")\n",
    "print(t)\n",
    "\n",
    "enc_types = np.zeros(n_types, dtype=bool)\n",
    "enc_types[t] = 1\n",
    "\n",
    "enc_board = (board==1).flatten()\n",
    "print(\"enc_board\")\n",
    "print(enc_board)\n",
    "\n",
    "print(\"enc_types\")\n",
    "print(enc_types)\n",
    "\n",
    "occ = np.hstack((enc_board, enc_types))\n",
    "print(\"occ\")\n",
    "print(occ)\n",
    "\n",
    "pow = 1<<np.arange(occ.size)\n",
    "print(\"pow\")\n",
    "print(pow)\n",
    "\n",
    "code = pow@occ\n",
    "print(\"code\")\n",
    "print(code)\n",
    "\n",
    "\n",
    "def encode_state(n_tiles, board, tile_type):\n",
    "    enc_types = np.zeros(n_tiles, dtype=bool)\n",
    "    enc_types[tile_type] = 1\n",
    "    enc_board = (board==1).flatten()\n",
    "\n",
    "    occ = np.hstack((enc_board, enc_types))\n",
    "    pow = 1 << np.arange(occ.size)\n",
    "    code = pow@occ\n",
    "\n",
    "    return code\n",
    "\n",
    "\n",
    "print(\"func output\")\n",
    "encode_state(n_types, board, t)\n",
    "\n"
   ]
  },
  {
   "cell_type": "code",
   "execution_count": 31,
   "metadata": {},
   "outputs": [
    {
     "data": {
      "text/plain": [
       "array([[0, 0],\n",
       "       [0, 1],\n",
       "       [0, 2],\n",
       "       [0, 3],\n",
       "       [1, 0],\n",
       "       [1, 1],\n",
       "       [1, 2],\n",
       "       [1, 3],\n",
       "       [2, 0],\n",
       "       [2, 1],\n",
       "       [2, 2],\n",
       "       [2, 3],\n",
       "       [3, 0],\n",
       "       [3, 1],\n",
       "       [3, 2],\n",
       "       [3, 3],\n",
       "       [4, 0],\n",
       "       [4, 1],\n",
       "       [4, 2],\n",
       "       [4, 3],\n",
       "       [5, 0],\n",
       "       [5, 1],\n",
       "       [5, 2],\n",
       "       [5, 3],\n",
       "       [6, 0],\n",
       "       [6, 1],\n",
       "       [6, 2],\n",
       "       [6, 3],\n",
       "       [7, 0],\n",
       "       [7, 1],\n",
       "       [7, 2],\n",
       "       [7, 3],\n",
       "       [8, 0],\n",
       "       [8, 1],\n",
       "       [8, 2],\n",
       "       [8, 3],\n",
       "       [9, 0],\n",
       "       [9, 1],\n",
       "       [9, 2],\n",
       "       [9, 3]])"
      ]
     },
     "execution_count": 31,
     "metadata": {},
     "output_type": "execute_result"
    }
   ],
   "source": [
    "n_pos = 10\n",
    "n_ori = 4\n",
    "\n",
    "tile_positions = np.arange(n_pos)\n",
    "tile_orientations = np.arange(n_ori)\n",
    "\n",
    "tile_positions = np.repeat(np.arange(n_pos, dtype=int), n_ori)\n",
    "tile_orientations = np.tile(np.arange(n_ori, dtype=int), n_pos)\n",
    "actions = np.vstack((tile_positions, tile_orientations)).T\n",
    "actions"
   ]
  },
  {
   "cell_type": "code",
   "execution_count": 18,
   "metadata": {},
   "outputs": [
    {
     "data": {
      "text/plain": [
       "36893488147419103231"
      ]
     },
     "execution_count": 18,
     "metadata": {},
     "output_type": "execute_result"
    }
   ],
   "source": [
    "import gmpy2\n",
    "\n",
    "int(gmpy2.pack([1 for _ in range(65)], 1))"
   ]
  },
  {
   "cell_type": "code",
   "execution_count": 118,
   "metadata": {},
   "outputs": [],
   "source": [
    "import numpy as np\n",
    "import torch\n",
    "from torch import nn\n",
    "\n",
    "device = torch.device('cuda' if torch.cuda.is_available() else 'cpu')\n",
    "\n",
    "class SmallStateAutoEncoder(nn.Module):\n",
    "    def __init__(self, d_L, d_H) -> None:\n",
    "        super().__init__()\n",
    "\n",
    "        self.encoder = nn.Sequential(\n",
    "            nn.Conv2d(1, 16, 2, padding=1),\n",
    "            nn.ReLU(),\n",
    "            nn.Flatten(1),   # dim \n",
    "            nn.Linear(400, d_H),\n",
    "            nn.ReLU(),\n",
    "            nn.Linear(d_H, d_L),\n",
    "            nn.ReLU(),\n",
    "        )        \n",
    "\n",
    "        self.decoder = nn.Sequential(\n",
    "            nn.Linear(d_L, d_H),\n",
    "            nn.ReLU(),\n",
    "            nn.Linear(d_H, 256),\n",
    "            nn.ReLU(),\n",
    "            nn.Unflatten(1, (16, 4, 4)),\n",
    "            nn.ConvTranspose2d(16, 1, 1, stride=1, padding=0),\n",
    "        )\n",
    "\n",
    "\n",
    "    def forward(self, x):\n",
    "        x = self.encoder(x)\n",
    "        x = self.decoder(x)\n",
    "        return torch.tanh(x)\n",
    "        "
   ]
  },
  {
   "cell_type": "code",
   "execution_count": 322,
   "metadata": {},
   "outputs": [],
   "source": [
    "import numpy as np\n",
    "\n",
    "data = np.random.choice([-1, 1], size=(128, 128, 1, 4, 4))\n",
    "data = torch.Tensor(data)\n"
   ]
  },
  {
   "cell_type": "code",
   "execution_count": 324,
   "metadata": {},
   "outputs": [
    {
     "name": "stdout",
     "output_type": "stream",
     "text": [
      "epoch: 0/200\n",
      "loss: 0.7509096246212721\n",
      "epoch: 10/200\n",
      "loss: 6.290278241749547e-05\n",
      "epoch: 20/200\n",
      "loss: 1.4597502861590783e-05\n",
      "epoch: 30/200\n",
      "loss: 5.408257528927152e-06\n",
      "epoch: 40/200\n",
      "loss: 2.269945861499423e-06\n",
      "epoch: 50/200\n",
      "loss: 1.0324067267752923e-06\n",
      "epoch: 60/200\n",
      "loss: 4.849360861758356e-07\n",
      "epoch: 70/200\n",
      "loss: 2.3432122764344143e-07\n",
      "epoch: 80/200\n",
      "loss: 1.151354260264803e-07\n",
      "epoch: 90/200\n",
      "loss: 5.7062849639910596e-08\n",
      "epoch: 100/200\n",
      "loss: 2.8471262167317768e-08\n",
      "epoch: 110/200\n",
      "loss: 1.4308779112959247e-08\n",
      "epoch: 120/200\n",
      "loss: 7.258067966087189e-09\n",
      "epoch: 130/200\n",
      "loss: 3.724352557257782e-09\n",
      "epoch: 140/200\n",
      "loss: 1.9416795185578373e-09\n",
      "epoch: 150/200\n",
      "loss: 1.033027865072339e-09\n",
      "epoch: 160/200\n",
      "loss: 5.63681824957904e-10\n",
      "epoch: 170/200\n",
      "loss: 3.1703688242387673e-10\n",
      "epoch: 180/200\n",
      "loss: 1.8469215729271377e-10\n",
      "epoch: 190/200\n",
      "loss: 1.1199724752209567e-10\n"
     ]
    }
   ],
   "source": [
    "ae_small = SmallStateAutoEncoder(32, 64).to(device)\n",
    "loss_fn = nn.MSELoss()\n",
    "optim = torch.optim.Adam(ae_small.parameters(), lr=3E-4)\n",
    "load_small_encoder = False\n",
    "save_small_encoder = True\n",
    "\n",
    "losses = []\n",
    "run_loss = 0\n",
    "n_epochs = 200\n",
    "\n",
    "if load_small_encoder:\n",
    "    ae_small.load_state_dict(torch.load('./src/models/ae_small.pt'))\n",
    "\n",
    "ae_small.train()\n",
    "for epoch in range(n_epochs):\n",
    "\n",
    "    run_loss = 0\n",
    "    for x in data:\n",
    "        optim.zero_grad()\n",
    "        x = x.to(device)\n",
    "\n",
    "        y = ae_small(x)\n",
    "\n",
    "        loss = loss_fn(y, x)\n",
    "        run_loss += loss.item()\n",
    "\n",
    "        loss.backward()\n",
    "        optim.step()\n",
    "\n",
    "    train_loss = run_loss / len(data)\n",
    "    losses.append(train_loss)\n",
    "\n",
    "    if epoch % 10 == 0:\n",
    "        print(f'epoch: {epoch}/{n_epochs}')\n",
    "        print(f'loss: {train_loss}')\n",
    "\n",
    "\n",
    "if save_small_encoder:\n",
    "    ae_small.eval()\n",
    "    torch.save(\n",
    "        ae_small.state_dict(), './src/models/ae_small.pt'\n",
    "    )"
   ]
  },
  {
   "cell_type": "code",
   "execution_count": 123,
   "metadata": {},
   "outputs": [
    {
     "name": "stdout",
     "output_type": "stream",
     "text": [
      "[[21.066587 27.634527 19.796804 10.164197 27.597885  9.57986  13.770809\n",
      "  20.1882  ]]\n"
     ]
    },
    {
     "data": {
      "text/plain": [
       "<matplotlib.image.AxesImage at 0x240396a87f0>"
      ]
     },
     "execution_count": 123,
     "metadata": {},
     "output_type": "execute_result"
    },
    {
     "data": {
      "image/png": "[encoded data removed]",
      "text/plain": [
       "<Figure size 640x480 with 2 Axes>"
      ]
     },
     "metadata": {},
     "output_type": "display_data"
    }
   ],
   "source": [
    "import matplotlib.pyplot as plt\n",
    "\n",
    "ex_grid = np.array([[-1, 1, 1, -1], [1, -1, 1, 1], [-1, 1, 1, 1], [-1, 1, 1, 1]])\n",
    "ex_grid = ex_grid.reshape(1, 1, 4, 4)\n",
    "ex_grid = torch.Tensor(ex_grid).to(device)\n",
    "\n",
    "ae_small.eval()\n",
    "ex_y = torch.sgn(ae_small(ex_grid))\n",
    "print(ae_small.encoder(ex_grid).detach().cpu().numpy())\n",
    "\n",
    "fig, (ax1, ax2) = plt.subplots(1, 2)\n",
    "ax1.imshow(ex_grid.detach().cpu().numpy().squeeze())\n",
    "ax2.imshow(ex_y.detach().cpu().numpy().squeeze())"
   ]
  },
  {
   "cell_type": "code",
   "execution_count": 296,
   "metadata": {},
   "outputs": [],
   "source": [
    "import numpy as np\n",
    "import torch\n",
    "from torch import nn\n",
    "\n",
    "device = torch.device('cuda' if torch.cuda.is_available() else 'cpu')\n",
    "\n",
    "class LargeStateAutoEncoder(nn.Module):\n",
    "    def __init__(self, d_L, d_H) -> None:\n",
    "        super().__init__()\n",
    "\n",
    "        self.encoder = nn.Sequential(\n",
    "            nn.Conv2d(1, 32, 3, padding=1),\n",
    "            nn.ReLU(),\n",
    "            nn.Conv2d(32, 64, 2, padding=1),\n",
    "            nn.ReLU(),\n",
    "            nn.Flatten(1),\n",
    "            nn.Linear(5184, d_H),\n",
    "            nn.ReLU(),\n",
    "            nn.Linear(d_H, d_H),\n",
    "            nn.ReLU(),\n",
    "            nn.Linear(d_H, d_L),\n",
    "            nn.ReLU(),\n",
    "        )        \n",
    "\n",
    "        self.decoder = nn.Sequential(\n",
    "            nn.Linear(d_L, d_H),\n",
    "            nn.ReLU(),\n",
    "            nn.Linear(d_H, d_H),\n",
    "            nn.ReLU(),\n",
    "            nn.Linear(d_H, 5184),\n",
    "            nn.ReLU(),\n",
    "            nn.Unflatten(1, (64, 9, 9)),\n",
    "            nn.ConvTranspose2d(64, 32, 1, stride=1, padding=0),\n",
    "            nn.ReLU(),\n",
    "            nn.ConvTranspose2d(32, 1, 2, stride=1, padding=1),\n",
    "        )\n",
    "\n",
    "    def forward(self, x):\n",
    "        x = self.encoder(x)\n",
    "        x = self.decoder(x)\n",
    "        return torch.tanh(x)\n",
    "        "
   ]
  },
  {
   "cell_type": "code",
   "execution_count": 309,
   "metadata": {},
   "outputs": [],
   "source": [
    "import numpy as np\n",
    "\n",
    "data = np.random.choice([-1, 1], size=(128, 128, 1, 8, 8))\n",
    "data = torch.Tensor(data)\n"
   ]
  },
  {
   "cell_type": "code",
   "execution_count": 320,
   "metadata": {},
   "outputs": [
    {
     "name": "stdout",
     "output_type": "stream",
     "text": [
      "epoch: 0/150\n",
      "loss: 0.0017165556284908234\n",
      "epoch: 10/150\n",
      "loss: 0.001385567834631729\n",
      "epoch: 20/150\n",
      "loss: 0.0012617767756637477\n",
      "epoch: 30/150\n",
      "loss: 0.0011695029252223321\n",
      "epoch: 40/150\n",
      "loss: 0.0010905382446253498\n",
      "epoch: 50/150\n",
      "loss: 0.0010294391679508408\n",
      "epoch: 60/150\n",
      "loss: 0.0009761655542206427\n",
      "epoch: 70/150\n",
      "loss: 0.0009277103441718282\n",
      "epoch: 80/150\n",
      "loss: 0.0008749427829570777\n",
      "epoch: 90/150\n",
      "loss: 0.0008345197030621421\n",
      "epoch: 100/150\n",
      "loss: 0.0007961094048596351\n",
      "epoch: 110/150\n",
      "loss: 0.0007606552172774173\n",
      "epoch: 120/150\n",
      "loss: 0.0007260815243625984\n",
      "epoch: 130/150\n",
      "loss: 0.0006907205000743488\n",
      "epoch: 140/150\n",
      "loss: 0.0006562731118719967\n"
     ]
    }
   ],
   "source": [
    "ae_large = LargeStateAutoEncoder(32, 128).to(device)\n",
    "loss_fn = nn.MSELoss()\n",
    "optim = torch.optim.Adam(ae_large.parameters(), lr=3E-6)\n",
    "load_large_encoder = True\n",
    "save_large_encoder = True\n",
    "\n",
    "losses = []\n",
    "run_loss = 0\n",
    "n_epochs = 150\n",
    "\n",
    "if load_large_encoder:\n",
    "    ae_large.load_state_dict(torch.load('./src/models/ae_large.pt'))\n",
    "\n",
    "ae_large.train()\n",
    "for epoch in range(n_epochs):\n",
    "\n",
    "    run_loss = 0\n",
    "    for x in data:\n",
    "        optim.zero_grad()\n",
    "        x = x.to(device)\n",
    "\n",
    "        y = ae_large(x)\n",
    "\n",
    "        loss = loss_fn(y, x)\n",
    "        run_loss += loss.item()\n",
    "\n",
    "        loss.backward()\n",
    "        optim.step()\n",
    "\n",
    "    train_loss = run_loss / len(data)\n",
    "    losses.append(train_loss)\n",
    "\n",
    "    if epoch % 10 == 0:\n",
    "        print(f'epoch: {epoch}/{n_epochs}')\n",
    "        print(f'loss: {train_loss}')\n",
    "\n",
    "\n",
    "if save_large_encoder:\n",
    "    ae_large.eval()\n",
    "    torch.save(\n",
    "        ae_large.state_dict(), './src/models/ae_large.pt'\n",
    "    )"
   ]
  },
  {
   "cell_type": "code",
   "execution_count": 319,
   "metadata": {},
   "outputs": [
    {
     "name": "stdout",
     "output_type": "stream",
     "text": [
      "torch.Size([128, 1, 8, 8])\n"
     ]
    },
    {
     "data": {
      "text/plain": [
       "<matplotlib.image.AxesImage at 0x240631d2590>"
      ]
     },
     "execution_count": 319,
     "metadata": {},
     "output_type": "execute_result"
    },
    {
     "data": {
      "image/png": "[encoded data removed]",
      "text/plain": [
       "<Figure size 640x480 with 2 Axes>"
      ]
     },
     "metadata": {},
     "output_type": "display_data"
    }
   ],
   "source": [
    "import matplotlib.pyplot as plt\n",
    "\n",
    "ex_grid = data[0]\n",
    "ex_grid = torch.Tensor(ex_grid).to(device)\n",
    "print(ex_grid.shape)\n",
    "\n",
    "ae_large.eval()\n",
    "ex_y = torch.sgn(ae_large(ex_grid))\n",
    "\n",
    "fig, (ax1, ax2) = plt.subplots(1, 2)\n",
    "ax1.imshow(ex_grid[0].detach().cpu().numpy().squeeze())\n",
    "ax2.imshow(ex_y[0].detach().cpu().numpy().squeeze())"
   ]
  },
  {
   "cell_type": "code",
   "execution_count": null,
   "metadata": {},
   "outputs": [],
   "source": []
  }
 ],
 "metadata": {
  "kernelspec": {
   "display_name": "torch",
   "language": "python",
   "name": "python3"
  },
  "language_info": {
   "codemirror_mode": {
    "name": "ipython",
    "version": 3
   },
   "file_extension": ".py",
   "mimetype": "text/x-python",
   "name": "python",
   "nbconvert_exporter": "python",
   "pygments_lexer": "ipython3",
   "version": "3.10.10"
  },
  "orig_nbformat": 4
 },
 "nbformat": 4,
 "nbformat_minor": 2
}
