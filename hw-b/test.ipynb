{
 "cells": [
  {
   "cell_type": "code",
   "execution_count": 2,
   "metadata": {},
   "outputs": [
    {
     "data": {
      "text/plain": [
       "array([0, 1, 2, 3, 4])"
      ]
     },
     "execution_count": 2,
     "metadata": {},
     "output_type": "execute_result"
    }
   ],
   "source": [
    "import numpy as np\n",
    "\n",
    "np.arange(5)"
   ]
  },
  {
   "cell_type": "code",
   "execution_count": 24,
   "metadata": {},
   "outputs": [
    {
     "name": "stdout",
     "output_type": "stream",
     "text": [
      "board\n",
      "[[-1 -1 -1]\n",
      " [-1  1 -1]\n",
      " [-1  1  1]]\n",
      "type\n",
      "1\n",
      "enc_board\n",
      "[False False False False  True False False  True  True]\n",
      "enc_types\n",
      "[False  True False False False]\n",
      "occ\n",
      "[False False False False  True False False  True  True False  True False\n",
      " False False]\n",
      "pow\n",
      "[   1    2    4    8   16   32   64  128  256  512 1024 2048 4096 8192]\n",
      "code\n",
      "1424\n",
      "func output\n"
     ]
    },
    {
     "data": {
      "text/plain": [
       "1424"
      ]
     },
     "execution_count": 24,
     "metadata": {},
     "output_type": "execute_result"
    }
   ],
   "source": [
    "# encode type\n",
    "\n",
    "n_types = 5\n",
    "t = 1\n",
    "board = np.array([[-1, -1, -1], [-1, 1, -1], [-1, 1, 1]])\n",
    "\n",
    "print(\"board\")\n",
    "print(board)\n",
    "print(\"type\")\n",
    "print(t)\n",
    "\n",
    "enc_types = np.zeros(n_types, dtype=bool)\n",
    "enc_types[t] = 1\n",
    "\n",
    "enc_board = (board==1).flatten()\n",
    "print(\"enc_board\")\n",
    "print(enc_board)\n",
    "\n",
    "print(\"enc_types\")\n",
    "print(enc_types)\n",
    "\n",
    "occ = np.hstack((enc_board, enc_types))\n",
    "print(\"occ\")\n",
    "print(occ)\n",
    "\n",
    "pow = 1<<np.arange(occ.size)\n",
    "print(\"pow\")\n",
    "print(pow)\n",
    "\n",
    "code = pow@occ\n",
    "print(\"code\")\n",
    "print(code)\n",
    "\n",
    "\n",
    "def encode_state(n_tiles, board, tile_type):\n",
    "    enc_types = np.zeros(n_tiles, dtype=bool)\n",
    "    enc_types[tile_type] = 1\n",
    "    enc_board = (board==1).flatten()\n",
    "\n",
    "    occ = np.hstack((enc_board, enc_types))\n",
    "    pow = 1 << np.arange(occ.size)\n",
    "    code = pow@occ\n",
    "\n",
    "    return code\n",
    "\n",
    "\n",
    "print(\"func output\")\n",
    "encode_state(n_types, board, t)\n",
    "\n"
   ]
  },
  {
   "cell_type": "code",
   "execution_count": 31,
   "metadata": {},
   "outputs": [
    {
     "data": {
      "text/plain": [
       "array([[0, 0],\n",
       "       [0, 1],\n",
       "       [0, 2],\n",
       "       [0, 3],\n",
       "       [1, 0],\n",
       "       [1, 1],\n",
       "       [1, 2],\n",
       "       [1, 3],\n",
       "       [2, 0],\n",
       "       [2, 1],\n",
       "       [2, 2],\n",
       "       [2, 3],\n",
       "       [3, 0],\n",
       "       [3, 1],\n",
       "       [3, 2],\n",
       "       [3, 3],\n",
       "       [4, 0],\n",
       "       [4, 1],\n",
       "       [4, 2],\n",
       "       [4, 3],\n",
       "       [5, 0],\n",
       "       [5, 1],\n",
       "       [5, 2],\n",
       "       [5, 3],\n",
       "       [6, 0],\n",
       "       [6, 1],\n",
       "       [6, 2],\n",
       "       [6, 3],\n",
       "       [7, 0],\n",
       "       [7, 1],\n",
       "       [7, 2],\n",
       "       [7, 3],\n",
       "       [8, 0],\n",
       "       [8, 1],\n",
       "       [8, 2],\n",
       "       [8, 3],\n",
       "       [9, 0],\n",
       "       [9, 1],\n",
       "       [9, 2],\n",
       "       [9, 3]])"
      ]
     },
     "execution_count": 31,
     "metadata": {},
     "output_type": "execute_result"
    }
   ],
   "source": [
    "n_pos = 10\n",
    "n_ori = 4\n",
    "\n",
    "tile_positions = np.arange(n_pos)\n",
    "tile_orientations = np.arange(n_ori)\n",
    "\n",
    "tile_positions = np.repeat(np.arange(n_pos, dtype=int), n_ori)\n",
    "tile_orientations = np.tile(np.arange(n_ori, dtype=int), n_pos)\n",
    "actions = np.vstack((tile_positions, tile_orientations)).T\n",
    "actions"
   ]
  },
  {
   "cell_type": "code",
   "execution_count": 18,
   "metadata": {},
   "outputs": [
    {
     "data": {
      "text/plain": [
       "36893488147419103231"
      ]
     },
     "execution_count": 18,
     "metadata": {},
     "output_type": "execute_result"
    }
   ],
   "source": [
    "import gmpy2\n",
    "\n",
    "int(gmpy2.pack([1 for _ in range(65)], 1))"
   ]
  },
  {
   "cell_type": "code",
   "execution_count": null,
   "metadata": {},
   "outputs": [],
   "source": []
  }
 ],
 "metadata": {
  "kernelspec": {
   "display_name": "torch",
   "language": "python",
   "name": "python3"
  },
  "language_info": {
   "codemirror_mode": {
    "name": "ipython",
    "version": 3
   },
   "file_extension": ".py",
   "mimetype": "text/x-python",
   "name": "python",
   "nbconvert_exporter": "python",
   "pygments_lexer": "ipython3",
   "version": "3.10.10"
  },
  "orig_nbformat": 4
 },
 "nbformat": 4,
 "nbformat_minor": 2
}
