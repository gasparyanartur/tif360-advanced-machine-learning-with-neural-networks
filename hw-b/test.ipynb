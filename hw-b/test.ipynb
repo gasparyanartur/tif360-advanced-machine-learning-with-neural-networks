{
 "cells": [
  {
   "cell_type": "code",
   "execution_count": 3,
   "metadata": {},
   "outputs": [
    {
     "data": {
      "text/plain": [
       "array([0, 1, 2, 3, 4])"
      ]
     },
     "execution_count": 3,
     "metadata": {},
     "output_type": "execute_result"
    }
   ],
   "source": [
    "import numpy as np\n",
    "\n",
    "np.arange(5)"
   ]
  },
  {
   "cell_type": "code",
   "execution_count": 16,
   "metadata": {},
   "outputs": [
    {
     "name": "stdout",
     "output_type": "stream",
     "text": [
      "board\n",
      "[[-1 -1 -1]\n",
      " [-1  1 -1]\n",
      " [-1  1  1]]\n",
      "type\n",
      "1\n",
      "enc_board\n",
      "[False False False False  True False False  True  True]\n",
      "enc_types\n",
      "[False  True False False False]\n",
      "occ\n",
      "[False False False False  True False False  True  True False  True False\n",
      " False False]\n",
      "pow\n",
      "[   1    2    4    8   16   32   64  128  256  512 1024 2048 4096 8192]\n",
      "code\n",
      "1424\n",
      "func output\n"
     ]
    },
    {
     "data": {
      "text/plain": [
       "1424"
      ]
     },
     "execution_count": 16,
     "metadata": {},
     "output_type": "execute_result"
    }
   ],
   "source": [
    "# encode type\n",
    "\n",
    "n_types = 5\n",
    "t = 1\n",
    "board = np.array([[-1, -1, -1], [-1, 1, -1], [-1, 1, 1]])\n",
    "\n",
    "print(\"board\")\n",
    "print(board)\n",
    "print(\"type\")\n",
    "print(t)\n",
    "\n",
    "enc_types = np.zeros(n_types, dtype=bool)\n",
    "enc_types[t] = 1\n",
    "\n",
    "enc_board = (board==1).flatten()\n",
    "print(\"enc_board\")\n",
    "print(enc_board)\n",
    "\n",
    "print(\"enc_types\")\n",
    "print(enc_types)\n",
    "\n",
    "occ = np.hstack((enc_board, enc_types))\n",
    "print(\"occ\")\n",
    "print(occ)\n",
    "\n",
    "pow = 1<<np.arange(occ.size)\n",
    "print(\"pow\")\n",
    "print(pow)\n",
    "\n",
    "code = pow@occ\n",
    "print(\"code\")\n",
    "print(code)\n",
    "\n",
    "\n",
    "def encode_state(n_tiles, board, tile_type):\n",
    "    enc_types = np.zeros(n_tiles, dtype=bool)\n",
    "    enc_types[tile_type] = 1\n",
    "    enc_board = (board==1).flatten()\n",
    "\n",
    "    occ = np.hstack((enc_board, enc_types))\n",
    "    pow = 1 << np.arange(occ.size)\n",
    "    code = pow@occ\n",
    "\n",
    "    return code\n",
    "\n",
    "\n",
    "print(\"func output\")\n",
    "encode_state(n_types, board, t)\n",
    "\n"
   ]
  },
  {
   "cell_type": "code",
   "execution_count": 17,
   "metadata": {},
   "outputs": [
    {
     "data": {
      "text/plain": [
       "array([[0, 0],\n",
       "       [0, 1],\n",
       "       [0, 2],\n",
       "       [0, 3],\n",
       "       [1, 0],\n",
       "       [1, 1],\n",
       "       [1, 2],\n",
       "       [1, 3],\n",
       "       [2, 0],\n",
       "       [2, 1],\n",
       "       [2, 2],\n",
       "       [2, 3],\n",
       "       [3, 0],\n",
       "       [3, 1],\n",
       "       [3, 2],\n",
       "       [3, 3],\n",
       "       [4, 0],\n",
       "       [4, 1],\n",
       "       [4, 2],\n",
       "       [4, 3],\n",
       "       [5, 0],\n",
       "       [5, 1],\n",
       "       [5, 2],\n",
       "       [5, 3],\n",
       "       [6, 0],\n",
       "       [6, 1],\n",
       "       [6, 2],\n",
       "       [6, 3],\n",
       "       [7, 0],\n",
       "       [7, 1],\n",
       "       [7, 2],\n",
       "       [7, 3],\n",
       "       [8, 0],\n",
       "       [8, 1],\n",
       "       [8, 2],\n",
       "       [8, 3],\n",
       "       [9, 0],\n",
       "       [9, 1],\n",
       "       [9, 2],\n",
       "       [9, 3]])"
      ]
     },
     "execution_count": 17,
     "metadata": {},
     "output_type": "execute_result"
    }
   ],
   "source": [
    "n_pos = 10\n",
    "n_ori = 4\n",
    "\n",
    "tile_positions = np.arange(n_pos)\n",
    "tile_orientations = np.arange(n_ori)\n",
    "\n",
    "tile_positions = np.repeat(np.arange(n_pos, dtype=int), n_ori)\n",
    "tile_orientations = np.tile(np.arange(n_ori, dtype=int), n_pos)\n",
    "actions = np.vstack((tile_positions, tile_orientations)).T\n",
    "actions"
   ]
  },
  {
   "cell_type": "code",
   "execution_count": 18,
   "metadata": {},
   "outputs": [
    {
     "data": {
      "text/plain": [
       "36893488147419103231"
      ]
     },
     "execution_count": 18,
     "metadata": {},
     "output_type": "execute_result"
    }
   ],
   "source": [
    "import gmpy2\n",
    "\n",
    "int(gmpy2.pack([1 for _ in range(65)], 1))"
   ]
  },
  {
   "cell_type": "code",
   "execution_count": 63,
   "metadata": {},
   "outputs": [],
   "source": [
    "import numpy as np\n",
    "import torch\n",
    "from torch import nn\n",
    "\n",
    "device = torch.device('cuda' if torch.cuda.is_available() else 'cpu')\n",
    "\n",
    "class SmallStateAutoEncoder(nn.Module):\n",
    "    def __init__(self, d_L, d_H) -> None:\n",
    "        super().__init__()\n",
    "\n",
    "        self.encoder = nn.Sequential(\n",
    "            nn.Conv2d(1, 16, 2, padding=1),\n",
    "            nn.ReLU(),\n",
    "            nn.Conv2d(16, 32, 2, padding=0),\n",
    "            nn.ReLU(),\n",
    "            nn.Flatten(1),   # dim \n",
    "            nn.Linear(512, d_H),\n",
    "            nn.ReLU(),\n",
    "            nn.Linear(d_H, d_L),\n",
    "            nn.Tanh(),\n",
    "        )        \n",
    "\n",
    "        self.decoder = nn.Sequential(\n",
    "            nn.Linear(d_L, d_H),\n",
    "            nn.ReLU(),\n",
    "            nn.Linear(d_H, 512),\n",
    "            nn.ReLU(),\n",
    "            nn.Unflatten(1, (32, 4, 4)),\n",
    "            nn.ConvTranspose2d(32, 16, 1, stride=1, padding=0),\n",
    "            nn.ReLU(),\n",
    "            nn.ConvTranspose2d(16, 1, 1, stride=1, padding=0),\n",
    "        )\n",
    "\n",
    "\n",
    "    def forward(self, x):\n",
    "        x = self.encoder(x)\n",
    "        x = self.decoder(x)\n",
    "        return torch.tanh(x)\n",
    "        "
   ]
  },
  {
   "cell_type": "code",
   "execution_count": 64,
   "metadata": {},
   "outputs": [],
   "source": [
    "import numpy as np\n",
    "\n",
    "data = np.random.choice([-1, 1], size=(128, 128, 1, 4, 4))\n",
    "data = torch.Tensor(data)\n"
   ]
  },
  {
   "cell_type": "code",
   "execution_count": 65,
   "metadata": {},
   "outputs": [
    {
     "name": "stdout",
     "output_type": "stream",
     "text": [
      "epoch: 0/200\n",
      "loss: 0.8519814112223685\n",
      "epoch: 10/200\n",
      "loss: 0.18799929379019886\n",
      "epoch: 20/200\n",
      "loss: 0.04045357204449829\n",
      "epoch: 30/200\n",
      "loss: 0.01399930182742537\n",
      "epoch: 40/200\n",
      "loss: 0.006650894822996634\n",
      "epoch: 50/200\n",
      "loss: 0.0053713639358647924\n",
      "epoch: 60/200\n",
      "loss: 0.00527185009900677\n",
      "epoch: 70/200\n",
      "loss: 0.006756335907084576\n",
      "epoch: 80/200\n",
      "loss: 0.005721700042386146\n",
      "epoch: 90/200\n",
      "loss: 0.005379584496495227\n",
      "epoch: 100/200\n",
      "loss: 0.004526027329930571\n",
      "epoch: 110/200\n",
      "loss: 0.004898565706923819\n",
      "epoch: 120/200\n",
      "loss: 0.004155496065173736\n",
      "epoch: 130/200\n",
      "loss: 0.0039705527162832155\n",
      "epoch: 140/200\n",
      "loss: 0.003969157675708157\n",
      "epoch: 150/200\n",
      "loss: 0.003968452596586625\n",
      "epoch: 160/200\n",
      "loss: 0.003967978348355938\n",
      "epoch: 170/200\n",
      "loss: 0.0028900360965460337\n",
      "epoch: 180/200\n",
      "loss: 0.002886047831279104\n",
      "epoch: 190/200\n",
      "loss: 0.00288515030357539\n"
     ]
    }
   ],
   "source": [
    "ae_small = SmallStateAutoEncoder(8, 64).to(device)\n",
    "loss_fn = nn.MSELoss()\n",
    "optim = torch.optim.Adam(ae_small.parameters(), lr=3E-4)\n",
    "load_small_encoder = False\n",
    "save_small_encoder = True\n",
    "\n",
    "losses = []\n",
    "run_loss = 0\n",
    "n_epochs = 200\n",
    "\n",
    "if load_small_encoder:\n",
    "    ae_small.load_state_dict(torch.load('./src/models/ae_small.pt'))\n",
    "\n",
    "ae_small.train()\n",
    "for epoch in range(n_epochs):\n",
    "\n",
    "    run_loss = 0\n",
    "    for x in data:\n",
    "        optim.zero_grad()\n",
    "        x = x.to(device)\n",
    "\n",
    "        y = ae_small(x)\n",
    "\n",
    "        loss = loss_fn(y, x)\n",
    "        run_loss += loss.item()\n",
    "\n",
    "        loss.backward()\n",
    "        optim.step()\n",
    "\n",
    "    train_loss = run_loss / len(data)\n",
    "    losses.append(train_loss)\n",
    "\n",
    "    if epoch % 10 == 0:\n",
    "        print(f'epoch: {epoch}/{n_epochs}')\n",
    "        print(f'loss: {train_loss}')\n",
    "\n",
    "\n",
    "if save_small_encoder:\n",
    "    ae_small.eval()\n",
    "    torch.save(\n",
    "        ae_small.state_dict(), './src/models/ae_small.pt'\n",
    "    )"
   ]
  },
  {
   "cell_type": "code",
   "execution_count": 66,
   "metadata": {},
   "outputs": [
    {
     "name": "stdout",
     "output_type": "stream",
     "text": [
      "[[ 0.2883302   0.47906125  0.21276057 -0.01157598  0.13971364  0.56654614\n",
      "   0.4223579   0.04958561]]\n"
     ]
    },
    {
     "data": {
      "text/plain": [
       "<matplotlib.image.AxesImage at 0x1ada57d9600>"
      ]
     },
     "execution_count": 66,
     "metadata": {},
     "output_type": "execute_result"
    },
    {
     "data": {
      "image/png": "[encoded data removed]",
      "text/plain": [
       "<Figure size 640x480 with 2 Axes>"
      ]
     },
     "metadata": {},
     "output_type": "display_data"
    }
   ],
   "source": [
    "import matplotlib.pyplot as plt\n",
    "\n",
    "ex_grid = np.array([[-1, 1, 1, -1], [1, -1, 1, 1], [-1, 1, 1, 1], [-1, 1, 1, 1]])\n",
    "ex_grid = ex_grid.reshape(1, 1, 4, 4)\n",
    "ex_grid = torch.Tensor(ex_grid).to(device)\n",
    "\n",
    "ae_small.eval()\n",
    "ex_y = torch.sgn(ae_small(ex_grid))\n",
    "print(ae_small.encoder(ex_grid).detach().cpu().numpy())\n",
    "\n",
    "fig, (ax1, ax2) = plt.subplots(1, 2)\n",
    "ax1.imshow(ex_grid.detach().cpu().numpy().squeeze())\n",
    "ax2.imshow(ex_y.detach().cpu().numpy().squeeze())"
   ]
  },
  {
   "cell_type": "code",
   "execution_count": 156,
   "metadata": {},
   "outputs": [],
   "source": [
    "import numpy as np\n",
    "import torch\n",
    "from torch import nn\n",
    "\n",
    "device = torch.device('cuda' if torch.cuda.is_available() else 'cpu')\n",
    "\n",
    "class LargeStateAutoEncoder(nn.Module):\n",
    "    def __init__(self, d_L, d_H) -> None:\n",
    "        super().__init__()\n",
    "\n",
    "        self.encoder = nn.Sequential(\n",
    "            nn.Conv2d(1, 32, 4, padding=2),\n",
    "            nn.ReLU(),\n",
    "            nn.Conv2d(32, 64, 5, padding=1),\n",
    "            nn.ReLU(),\n",
    "            nn.Conv2d(64, 128, 6, padding=1),\n",
    "            nn.ReLU(),\n",
    "            nn.Flatten(1),\n",
    "            nn.Linear(2048, d_H),\n",
    "            nn.ReLU(),\n",
    "            nn.Linear(d_H, d_H),\n",
    "            nn.ReLU(),\n",
    "            nn.Linear(d_H, d_L),\n",
    "            nn.Tanh()\n",
    "        )        \n",
    "\n",
    "        self.decoder = nn.Sequential(\n",
    "            nn.Linear(d_L, d_H),\n",
    "            nn.ReLU(),\n",
    "            nn.Linear(d_H, d_H),\n",
    "            nn.ReLU(),\n",
    "            nn.Linear(d_H, 2048),\n",
    "            nn.ReLU(),\n",
    "            nn.Unflatten(1, (128, 4, 4)),\n",
    "            nn.ConvTranspose2d(128, 64, 2, stride=1, padding=0),\n",
    "            nn.ReLU(),\n",
    "            nn.ConvTranspose2d(64, 32, 3, stride=1, padding=0),\n",
    "            nn.ReLU(),\n",
    "            nn.ConvTranspose2d(32, 1, 2, stride=1, padding=0),\n",
    "        )\n",
    "\n",
    "    def forward(self, x):\n",
    "        x = self.encoder(x)\n",
    "        x = self.decoder(x)\n",
    "        return torch.tanh(x)\n",
    "        "
   ]
  },
  {
   "cell_type": "code",
   "execution_count": 157,
   "metadata": {},
   "outputs": [],
   "source": [
    "import numpy as np\n",
    "\n",
    "data = np.random.choice([-1, 1], size=(128, 128, 1, 8, 8))\n",
    "data = torch.Tensor(data)\n"
   ]
  },
  {
   "cell_type": "code",
   "execution_count": 162,
   "metadata": {},
   "outputs": [
    {
     "name": "stdout",
     "output_type": "stream",
     "text": [
      "epoch: 0/150\n",
      "loss: 0.9746197061613202\n",
      "epoch: 10/150\n",
      "loss: 0.3672874493058771\n",
      "epoch: 20/150\n",
      "loss: 0.21226572943851352\n",
      "epoch: 30/150\n",
      "loss: 0.16558124625589699\n",
      "epoch: 40/150\n",
      "loss: 0.13614280114416033\n",
      "epoch: 50/150\n",
      "loss: 0.10699690051842481\n",
      "epoch: 60/150\n",
      "loss: 0.08461793855531141\n",
      "epoch: 70/150\n",
      "loss: 0.07578418240882456\n",
      "epoch: 80/150\n",
      "loss: 0.06055967099382542\n",
      "epoch: 90/150\n",
      "loss: 0.052510737732518464\n",
      "epoch: 100/150\n",
      "loss: 0.04254707501968369\n",
      "epoch: 110/150\n",
      "loss: 0.03568383511446882\n",
      "epoch: 120/150\n",
      "loss: 0.029464754363289103\n",
      "epoch: 130/150\n",
      "loss: 0.026083590637426823\n",
      "epoch: 140/150\n",
      "loss: 0.024714456005312968\n"
     ]
    }
   ],
   "source": [
    "ae_large = LargeStateAutoEncoder(32, 512).to(device)\n",
    "loss_fn = nn.MSELoss()\n",
    "optim = torch.optim.Adam(ae_large.parameters(), lr=3E-4)\n",
    "load_large_encoder = False\n",
    "save_large_encoder = True\n",
    "\n",
    "losses = []\n",
    "run_loss = 0\n",
    "n_epochs = 150\n",
    "\n",
    "if load_large_encoder:\n",
    "    ae_large.load_state_dict(torch.load('./src/models/ae_large.pt'))\n",
    "\n",
    "ae_large.train()\n",
    "for epoch in range(n_epochs):\n",
    "\n",
    "    run_loss = 0\n",
    "    for x in data:\n",
    "        optim.zero_grad()\n",
    "        x = x.to(device)\n",
    "\n",
    "        y = ae_large(x)\n",
    "\n",
    "        loss = loss_fn(y, x)\n",
    "        run_loss += loss.item()\n",
    "\n",
    "        loss.backward()\n",
    "        optim.step()\n",
    "\n",
    "    train_loss = run_loss / len(data)\n",
    "    losses.append(train_loss)\n",
    "\n",
    "    if epoch % 10 == 0:\n",
    "        print(f'epoch: {epoch}/{n_epochs}')\n",
    "        print(f'loss: {train_loss}')\n",
    "\n",
    "\n",
    "if save_large_encoder:\n",
    "    ae_large.eval()\n",
    "    torch.save(\n",
    "        ae_large.state_dict(), './src/models/ae_large.pt'\n",
    "    )"
   ]
  },
  {
   "cell_type": "code",
   "execution_count": 163,
   "metadata": {},
   "outputs": [
    {
     "name": "stdout",
     "output_type": "stream",
     "text": [
      "torch.Size([128, 1, 8, 8])\n"
     ]
    },
    {
     "data": {
      "text/plain": [
       "<matplotlib.image.AxesImage at 0x2024b1ad180>"
      ]
     },
     "execution_count": 163,
     "metadata": {},
     "output_type": "execute_result"
    },
    {
     "data": {
      "image/png": "[encoded data removed]",
      "text/plain": [
       "<Figure size 640x480 with 2 Axes>"
      ]
     },
     "metadata": {},
     "output_type": "display_data"
    }
   ],
   "source": [
    "import matplotlib.pyplot as plt\n",
    "\n",
    "ex_grid = data[0]\n",
    "ex_grid = torch.Tensor(ex_grid).to(device)\n",
    "print(ex_grid.shape)\n",
    "\n",
    "ae_large.eval()\n",
    "ex_y = torch.sgn(ae_large(ex_grid))\n",
    "\n",
    "fig, (ax1, ax2) = plt.subplots(1, 2)\n",
    "ax1.imshow(ex_grid[0].detach().cpu().numpy().squeeze())\n",
    "ax2.imshow(ex_y[0].detach().cpu().numpy().squeeze())"
   ]
  },
  {
   "cell_type": "code",
   "execution_count": null,
   "metadata": {},
   "outputs": [
    {
     "name": "stdout",
     "output_type": "stream",
     "text": [
      "(0, 1)\n",
      "(2, 3)\n",
      "(4, 5)\n",
      "(6, 7)\n",
      "(8, 9)\n"
     ]
    }
   ],
   "source": [
    "import numpy as np\n",
    "\n",
    "action = (1, 2)\n",
    "\n",
    "a = np.arange(10).reshape(5, 2)\n",
    "\n",
    "for action in a:\n",
    "    print(tuple(action))"
   ]
  },
  {
   "cell_type": "code",
   "execution_count": 12,
   "metadata": {},
   "outputs": [
    {
     "data": {
      "text/plain": [
       "torch.Size([3, 5, 2])"
      ]
     },
     "execution_count": 12,
     "metadata": {},
     "output_type": "execute_result"
    }
   ],
   "source": [
    "import torch\n",
    "\n",
    "a = torch.randint(0, 50, (5, 5, 2))\n",
    "a[[1, 2, 3]].shape"
   ]
  },
  {
   "cell_type": "code",
   "execution_count": null,
   "metadata": {},
   "outputs": [],
   "source": []
  }
 ],
 "metadata": {
  "kernelspec": {
   "display_name": "torch",
   "language": "python",
   "name": "python3"
  },
  "language_info": {
   "codemirror_mode": {
    "name": "ipython",
    "version": 3
   },
   "file_extension": ".py",
   "mimetype": "text/x-python",
   "name": "python",
   "nbconvert_exporter": "python",
   "pygments_lexer": "ipython3",
   "version": "3.10.10"
  },
  "orig_nbformat": 4
 },
 "nbformat": 4,
 "nbformat_minor": 2
}
